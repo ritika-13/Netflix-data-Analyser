{
 "cells": [
  {
   "cell_type": "code",
   "execution_count": 3,
   "metadata": {},
   "outputs": [
    {
     "data": {
      "text/plain": [
       "(1261, 10)"
      ]
     },
     "execution_count": 3,
     "metadata": {},
     "output_type": "execute_result"
    }
   ],
   "source": [
    "import pandas as pd\n",
    "df=pd.read_csv(\"ViewingActivity.csv\")\n",
    "df.shape"
   ]
  },
  {
   "cell_type": "code",
   "execution_count": 4,
   "metadata": {},
   "outputs": [
    {
     "data": {
      "text/html": [
       "<div>\n",
       "<style scoped>\n",
       "    .dataframe tbody tr th:only-of-type {\n",
       "        vertical-align: middle;\n",
       "    }\n",
       "\n",
       "    .dataframe tbody tr th {\n",
       "        vertical-align: top;\n",
       "    }\n",
       "\n",
       "    .dataframe thead th {\n",
       "        text-align: right;\n",
       "    }\n",
       "</style>\n",
       "<table border=\"1\" class=\"dataframe\">\n",
       "  <thead>\n",
       "    <tr style=\"text-align: right;\">\n",
       "      <th></th>\n",
       "      <th>Profile Name</th>\n",
       "      <th>Start Time</th>\n",
       "      <th>Duration</th>\n",
       "      <th>Attributes</th>\n",
       "      <th>Title</th>\n",
       "      <th>Supplemental Video Type</th>\n",
       "      <th>Device Type</th>\n",
       "      <th>Bookmark</th>\n",
       "      <th>Latest Bookmark</th>\n",
       "      <th>Country</th>\n",
       "    </tr>\n",
       "  </thead>\n",
       "  <tbody>\n",
       "    <tr>\n",
       "      <th>0</th>\n",
       "      <td>Guest</td>\n",
       "      <td>2022-12-17 18:56:29</td>\n",
       "      <td>00:00:08</td>\n",
       "      <td>Autoplayed: user action: None;</td>\n",
       "      <td>FRACTURED_CLIP_CLIFFHANGER</td>\n",
       "      <td>HOOK</td>\n",
       "      <td>Chrome PC (Cadmium)</td>\n",
       "      <td>00:00:08</td>\n",
       "      <td>00:00:08</td>\n",
       "      <td>IN (India)</td>\n",
       "    </tr>\n",
       "    <tr>\n",
       "      <th>1</th>\n",
       "      <td>Guest</td>\n",
       "      <td>2022-12-17 18:49:56</td>\n",
       "      <td>00:03:37</td>\n",
       "      <td>NaN</td>\n",
       "      <td>Beast of Bangalore: Indian Predator: Limited S...</td>\n",
       "      <td>NaN</td>\n",
       "      <td>Chrome PC (Cadmium)</td>\n",
       "      <td>00:03:47</td>\n",
       "      <td>00:03:47</td>\n",
       "      <td>IN (India)</td>\n",
       "    </tr>\n",
       "    <tr>\n",
       "      <th>2</th>\n",
       "      <td>Guest</td>\n",
       "      <td>2022-12-17 18:10:23</td>\n",
       "      <td>00:00:32</td>\n",
       "      <td>NaN</td>\n",
       "      <td>Don't Look Up</td>\n",
       "      <td>NaN</td>\n",
       "      <td>Chrome PC (Cadmium)</td>\n",
       "      <td>00:00:32</td>\n",
       "      <td>00:00:32</td>\n",
       "      <td>IN (India)</td>\n",
       "    </tr>\n",
       "    <tr>\n",
       "      <th>3</th>\n",
       "      <td>Guest</td>\n",
       "      <td>2022-12-17 18:07:13</td>\n",
       "      <td>00:00:13</td>\n",
       "      <td>NaN</td>\n",
       "      <td>Don't Look Up</td>\n",
       "      <td>NaN</td>\n",
       "      <td>Chrome PC (Cadmium)</td>\n",
       "      <td>00:00:00</td>\n",
       "      <td>Not latest view</td>\n",
       "      <td>IN (India)</td>\n",
       "    </tr>\n",
       "    <tr>\n",
       "      <th>4</th>\n",
       "      <td>Guest</td>\n",
       "      <td>2022-12-17 18:06:14</td>\n",
       "      <td>00:00:12</td>\n",
       "      <td>Autoplayed: user action: None;</td>\n",
       "      <td>Codename: Tiranga (fka Durga)_hook_05_16x9</td>\n",
       "      <td>HOOK</td>\n",
       "      <td>Chrome PC (Cadmium)</td>\n",
       "      <td>00:00:12</td>\n",
       "      <td>00:00:12</td>\n",
       "      <td>IN (India)</td>\n",
       "    </tr>\n",
       "  </tbody>\n",
       "</table>\n",
       "</div>"
      ],
      "text/plain": [
       "  Profile Name           Start Time  Duration  \\\n",
       "0        Guest  2022-12-17 18:56:29  00:00:08   \n",
       "1        Guest  2022-12-17 18:49:56  00:03:37   \n",
       "2        Guest  2022-12-17 18:10:23  00:00:32   \n",
       "3        Guest  2022-12-17 18:07:13  00:00:13   \n",
       "4        Guest  2022-12-17 18:06:14  00:00:12   \n",
       "\n",
       "                        Attributes  \\\n",
       "0  Autoplayed: user action: None;    \n",
       "1                              NaN   \n",
       "2                              NaN   \n",
       "3                              NaN   \n",
       "4  Autoplayed: user action: None;    \n",
       "\n",
       "                                               Title Supplemental Video Type  \\\n",
       "0                         FRACTURED_CLIP_CLIFFHANGER                    HOOK   \n",
       "1  Beast of Bangalore: Indian Predator: Limited S...                     NaN   \n",
       "2                                      Don't Look Up                     NaN   \n",
       "3                                      Don't Look Up                     NaN   \n",
       "4         Codename: Tiranga (fka Durga)_hook_05_16x9                    HOOK   \n",
       "\n",
       "           Device Type  Bookmark  Latest Bookmark     Country  \n",
       "0  Chrome PC (Cadmium)  00:00:08         00:00:08  IN (India)  \n",
       "1  Chrome PC (Cadmium)  00:03:47         00:03:47  IN (India)  \n",
       "2  Chrome PC (Cadmium)  00:00:32         00:00:32  IN (India)  \n",
       "3  Chrome PC (Cadmium)  00:00:00  Not latest view  IN (India)  \n",
       "4  Chrome PC (Cadmium)  00:00:12         00:00:12  IN (India)  "
      ]
     },
     "execution_count": 4,
     "metadata": {},
     "output_type": "execute_result"
    }
   ],
   "source": [
    "df.head()"
   ]
  },
  {
   "cell_type": "code",
   "execution_count": 5,
   "metadata": {},
   "outputs": [
    {
     "data": {
      "text/html": [
       "<div>\n",
       "<style scoped>\n",
       "    .dataframe tbody tr th:only-of-type {\n",
       "        vertical-align: middle;\n",
       "    }\n",
       "\n",
       "    .dataframe tbody tr th {\n",
       "        vertical-align: top;\n",
       "    }\n",
       "\n",
       "    .dataframe thead th {\n",
       "        text-align: right;\n",
       "    }\n",
       "</style>\n",
       "<table border=\"1\" class=\"dataframe\">\n",
       "  <thead>\n",
       "    <tr style=\"text-align: right;\">\n",
       "      <th></th>\n",
       "      <th>Start Time</th>\n",
       "      <th>Duration</th>\n",
       "      <th>Title</th>\n",
       "    </tr>\n",
       "  </thead>\n",
       "  <tbody>\n",
       "    <tr>\n",
       "      <th>0</th>\n",
       "      <td>2022-12-17 18:56:29</td>\n",
       "      <td>00:00:08</td>\n",
       "      <td>FRACTURED_CLIP_CLIFFHANGER</td>\n",
       "    </tr>\n",
       "  </tbody>\n",
       "</table>\n",
       "</div>"
      ],
      "text/plain": [
       "            Start Time  Duration                       Title\n",
       "0  2022-12-17 18:56:29  00:00:08  FRACTURED_CLIP_CLIFFHANGER"
      ]
     },
     "execution_count": 5,
     "metadata": {},
     "output_type": "execute_result"
    }
   ],
   "source": [
    "df = df.drop(['Profile Name', 'Attributes', 'Supplemental Video Type', 'Device Type', 'Bookmark', 'Latest Bookmark', 'Country'], axis=1)\n",
    "df.head(1)"
   ]
  },
  {
   "cell_type": "code",
   "execution_count": 6,
   "metadata": {},
   "outputs": [
    {
     "data": {
      "text/plain": [
       "Start Time    object\n",
       "Duration      object\n",
       "Title         object\n",
       "dtype: object"
      ]
     },
     "execution_count": 6,
     "metadata": {},
     "output_type": "execute_result"
    }
   ],
   "source": [
    "df.dtypes"
   ]
  },
  {
   "cell_type": "code",
   "execution_count": 7,
   "metadata": {},
   "outputs": [
    {
     "data": {
      "text/plain": [
       "Start Time    datetime64[ns, UTC]\n",
       "Duration                   object\n",
       "Title                      object\n",
       "dtype: object"
      ]
     },
     "execution_count": 7,
     "metadata": {},
     "output_type": "execute_result"
    }
   ],
   "source": [
    "df['Start Time'] = pd.to_datetime(df['Start Time'],utc=True)\n",
    "df.dtypes"
   ]
  },
  {
   "cell_type": "code",
   "execution_count": 8,
   "metadata": {},
   "outputs": [
    {
     "data": {
      "text/html": [
       "<div>\n",
       "<style scoped>\n",
       "    .dataframe tbody tr th:only-of-type {\n",
       "        vertical-align: middle;\n",
       "    }\n",
       "\n",
       "    .dataframe tbody tr th {\n",
       "        vertical-align: top;\n",
       "    }\n",
       "\n",
       "    .dataframe thead th {\n",
       "        text-align: right;\n",
       "    }\n",
       "</style>\n",
       "<table border=\"1\" class=\"dataframe\">\n",
       "  <thead>\n",
       "    <tr style=\"text-align: right;\">\n",
       "      <th></th>\n",
       "      <th>Start Time</th>\n",
       "      <th>Duration</th>\n",
       "      <th>Title</th>\n",
       "    </tr>\n",
       "  </thead>\n",
       "  <tbody>\n",
       "    <tr>\n",
       "      <th>0</th>\n",
       "      <td>2022-12-18 00:26:29+05:30</td>\n",
       "      <td>00:00:08</td>\n",
       "      <td>FRACTURED_CLIP_CLIFFHANGER</td>\n",
       "    </tr>\n",
       "    <tr>\n",
       "      <th>1</th>\n",
       "      <td>2022-12-18 00:19:56+05:30</td>\n",
       "      <td>00:03:37</td>\n",
       "      <td>Beast of Bangalore: Indian Predator: Limited S...</td>\n",
       "    </tr>\n",
       "    <tr>\n",
       "      <th>2</th>\n",
       "      <td>2022-12-17 23:40:23+05:30</td>\n",
       "      <td>00:00:32</td>\n",
       "      <td>Don't Look Up</td>\n",
       "    </tr>\n",
       "    <tr>\n",
       "      <th>3</th>\n",
       "      <td>2022-12-17 23:37:13+05:30</td>\n",
       "      <td>00:00:13</td>\n",
       "      <td>Don't Look Up</td>\n",
       "    </tr>\n",
       "    <tr>\n",
       "      <th>4</th>\n",
       "      <td>2022-12-17 23:36:14+05:30</td>\n",
       "      <td>00:00:12</td>\n",
       "      <td>Codename: Tiranga (fka Durga)_hook_05_16x9</td>\n",
       "    </tr>\n",
       "  </tbody>\n",
       "</table>\n",
       "</div>"
      ],
      "text/plain": [
       "                 Start Time  Duration  \\\n",
       "0 2022-12-18 00:26:29+05:30  00:00:08   \n",
       "1 2022-12-18 00:19:56+05:30  00:03:37   \n",
       "2 2022-12-17 23:40:23+05:30  00:00:32   \n",
       "3 2022-12-17 23:37:13+05:30  00:00:13   \n",
       "4 2022-12-17 23:36:14+05:30  00:00:12   \n",
       "\n",
       "                                               Title  \n",
       "0                         FRACTURED_CLIP_CLIFFHANGER  \n",
       "1  Beast of Bangalore: Indian Predator: Limited S...  \n",
       "2                                      Don't Look Up  \n",
       "3                                      Don't Look Up  \n",
       "4         Codename: Tiranga (fka Durga)_hook_05_16x9  "
      ]
     },
     "execution_count": 8,
     "metadata": {},
     "output_type": "execute_result"
    }
   ],
   "source": [
    "df=df.set_index(\"Start Time\") #Setting Start time as index as tz_convert can only\n",
    "df.index=df.index.tz_convert(\"Asia/Kolkata\") #Be used on index\n",
    "df=df.reset_index() #Converting back to narmal column\n",
    "df.head()"
   ]
  },
  {
   "cell_type": "code",
   "execution_count": 9,
   "metadata": {},
   "outputs": [
    {
     "data": {
      "text/plain": [
       "Start Time    datetime64[ns, Asia/Kolkata]\n",
       "Duration                   timedelta64[ns]\n",
       "Title                               object\n",
       "dtype: object"
      ]
     },
     "execution_count": 9,
     "metadata": {},
     "output_type": "execute_result"
    }
   ],
   "source": [
    "df[\"Duration\"]=pd.to_timedelta(df[\"Duration\"])\n",
    "df.dtypes"
   ]
  },
  {
   "cell_type": "code",
   "execution_count": 10,
   "metadata": {},
   "outputs": [
    {
     "data": {
      "text/html": [
       "<div>\n",
       "<style scoped>\n",
       "    .dataframe tbody tr th:only-of-type {\n",
       "        vertical-align: middle;\n",
       "    }\n",
       "\n",
       "    .dataframe tbody tr th {\n",
       "        vertical-align: top;\n",
       "    }\n",
       "\n",
       "    .dataframe thead th {\n",
       "        text-align: right;\n",
       "    }\n",
       "</style>\n",
       "<table border=\"1\" class=\"dataframe\">\n",
       "  <thead>\n",
       "    <tr style=\"text-align: right;\">\n",
       "      <th></th>\n",
       "      <th>Start Time</th>\n",
       "      <th>Duration</th>\n",
       "      <th>Title</th>\n",
       "    </tr>\n",
       "  </thead>\n",
       "  <tbody>\n",
       "    <tr>\n",
       "      <th>147</th>\n",
       "      <td>2023-01-01 22:44:20+05:30</td>\n",
       "      <td>0 days 00:10:37</td>\n",
       "      <td>Parasyte: The Maxim: Season 1: Something Wicke...</td>\n",
       "    </tr>\n",
       "    <tr>\n",
       "      <th>194</th>\n",
       "      <td>2022-12-30 19:58:00+05:30</td>\n",
       "      <td>0 days 00:12:37</td>\n",
       "      <td>Parasyte: The Maxim: Season 1: The Selfish Gen...</td>\n",
       "    </tr>\n",
       "    <tr>\n",
       "      <th>291</th>\n",
       "      <td>2022-12-26 17:52:11+05:30</td>\n",
       "      <td>0 days 00:20:09</td>\n",
       "      <td>Parasyte: The Maxim: Season 1: A Dark Night's ...</td>\n",
       "    </tr>\n",
       "    <tr>\n",
       "      <th>287</th>\n",
       "      <td>2022-12-26 18:20:36+05:30</td>\n",
       "      <td>0 days 00:05:53</td>\n",
       "      <td>Parasyte: The Maxim: Season 1: Freezing Point ...</td>\n",
       "    </tr>\n",
       "    <tr>\n",
       "      <th>196</th>\n",
       "      <td>2022-12-30 19:32:38+05:30</td>\n",
       "      <td>0 days 00:00:57</td>\n",
       "      <td>Parasyte: The Maxim: Season 1: Hello Sadness (...</td>\n",
       "    </tr>\n",
       "    <tr>\n",
       "      <th>83</th>\n",
       "      <td>2023-01-05 15:18:04+05:30</td>\n",
       "      <td>0 days 00:13:53</td>\n",
       "      <td>Parasyte: The Maxim: Season 1: Life and Vows (...</td>\n",
       "    </tr>\n",
       "    <tr>\n",
       "      <th>389</th>\n",
       "      <td>2022-12-24 18:52:23+05:30</td>\n",
       "      <td>0 days 00:01:18</td>\n",
       "      <td>Parasyte: The Maxim: Season 1_hook_01_16x9</td>\n",
       "    </tr>\n",
       "    <tr>\n",
       "      <th>259</th>\n",
       "      <td>2022-12-27 18:42:06+05:30</td>\n",
       "      <td>0 days 00:01:24</td>\n",
       "      <td>Parasyte: The Maxim: Season 1: What Mad Univer...</td>\n",
       "    </tr>\n",
       "    <tr>\n",
       "      <th>113</th>\n",
       "      <td>2023-01-03 11:04:25+05:30</td>\n",
       "      <td>0 days 00:20:04</td>\n",
       "      <td>Parasyte: The Maxim: Season 1: More Than Human...</td>\n",
       "    </tr>\n",
       "    <tr>\n",
       "      <th>195</th>\n",
       "      <td>2022-12-30 19:37:38+05:30</td>\n",
       "      <td>0 days 00:19:02</td>\n",
       "      <td>Parasyte: The Maxim: Season 1: Hello Sadness (...</td>\n",
       "    </tr>\n",
       "    <tr>\n",
       "      <th>321</th>\n",
       "      <td>2022-12-26 16:06:45+05:30</td>\n",
       "      <td>0 days 00:05:36</td>\n",
       "      <td>Parasyte: The Maxim: Season 1: The Stranger (E...</td>\n",
       "    </tr>\n",
       "    <tr>\n",
       "      <th>587</th>\n",
       "      <td>2022-12-08 13:37:29+05:30</td>\n",
       "      <td>0 days 00:00:15</td>\n",
       "      <td>Parasyte: The Maxim: Season 1_hook_02_16x9</td>\n",
       "    </tr>\n",
       "    <tr>\n",
       "      <th>97</th>\n",
       "      <td>2023-01-04 11:33:46+05:30</td>\n",
       "      <td>0 days 00:20:28</td>\n",
       "      <td>Parasyte: The Maxim: Season 1: Sex and Spirit ...</td>\n",
       "    </tr>\n",
       "    <tr>\n",
       "      <th>290</th>\n",
       "      <td>2022-12-26 18:15:08+05:30</td>\n",
       "      <td>0 days 00:00:25</td>\n",
       "      <td>Parasyte: The Maxim: Season 1: A Dark Night's ...</td>\n",
       "    </tr>\n",
       "    <tr>\n",
       "      <th>141</th>\n",
       "      <td>2023-01-02 11:05:23+05:30</td>\n",
       "      <td>0 days 00:00:09</td>\n",
       "      <td>Parasyte: The Maxim: Season 1: The Adventure o...</td>\n",
       "    </tr>\n",
       "    <tr>\n",
       "      <th>98</th>\n",
       "      <td>2023-01-04 11:13:36+05:30</td>\n",
       "      <td>0 days 00:20:05</td>\n",
       "      <td>Parasyte: The Maxim: Season 1: Crime and Punis...</td>\n",
       "    </tr>\n",
       "    <tr>\n",
       "      <th>370</th>\n",
       "      <td>2022-12-25 12:42:06+05:30</td>\n",
       "      <td>0 days 00:05:08</td>\n",
       "      <td>Parasyte: The Maxim: Season 1: Symposium (Epis...</td>\n",
       "    </tr>\n",
       "    <tr>\n",
       "      <th>387</th>\n",
       "      <td>2022-12-24 19:12:51+05:30</td>\n",
       "      <td>0 days 00:17:29</td>\n",
       "      <td>Parasyte: The Maxim: Season 1: The Devil in th...</td>\n",
       "    </tr>\n",
       "    <tr>\n",
       "      <th>104</th>\n",
       "      <td>2023-01-03 21:38:42+05:30</td>\n",
       "      <td>0 days 00:03:26</td>\n",
       "      <td>Parasyte: The Maxim: Season 1: In Cold Blood (...</td>\n",
       "    </tr>\n",
       "    <tr>\n",
       "      <th>114</th>\n",
       "      <td>2023-01-03 10:41:20+05:30</td>\n",
       "      <td>0 days 00:21:35</td>\n",
       "      <td>Parasyte: The Maxim: Season 1: The Adventure o...</td>\n",
       "    </tr>\n",
       "  </tbody>\n",
       "</table>\n",
       "</div>"
      ],
      "text/plain": [
       "                   Start Time        Duration  \\\n",
       "147 2023-01-01 22:44:20+05:30 0 days 00:10:37   \n",
       "194 2022-12-30 19:58:00+05:30 0 days 00:12:37   \n",
       "291 2022-12-26 17:52:11+05:30 0 days 00:20:09   \n",
       "287 2022-12-26 18:20:36+05:30 0 days 00:05:53   \n",
       "196 2022-12-30 19:32:38+05:30 0 days 00:00:57   \n",
       "83  2023-01-05 15:18:04+05:30 0 days 00:13:53   \n",
       "389 2022-12-24 18:52:23+05:30 0 days 00:01:18   \n",
       "259 2022-12-27 18:42:06+05:30 0 days 00:01:24   \n",
       "113 2023-01-03 11:04:25+05:30 0 days 00:20:04   \n",
       "195 2022-12-30 19:37:38+05:30 0 days 00:19:02   \n",
       "321 2022-12-26 16:06:45+05:30 0 days 00:05:36   \n",
       "587 2022-12-08 13:37:29+05:30 0 days 00:00:15   \n",
       "97  2023-01-04 11:33:46+05:30 0 days 00:20:28   \n",
       "290 2022-12-26 18:15:08+05:30 0 days 00:00:25   \n",
       "141 2023-01-02 11:05:23+05:30 0 days 00:00:09   \n",
       "98  2023-01-04 11:13:36+05:30 0 days 00:20:05   \n",
       "370 2022-12-25 12:42:06+05:30 0 days 00:05:08   \n",
       "387 2022-12-24 19:12:51+05:30 0 days 00:17:29   \n",
       "104 2023-01-03 21:38:42+05:30 0 days 00:03:26   \n",
       "114 2023-01-03 10:41:20+05:30 0 days 00:21:35   \n",
       "\n",
       "                                                 Title  \n",
       "147  Parasyte: The Maxim: Season 1: Something Wicke...  \n",
       "194  Parasyte: The Maxim: Season 1: The Selfish Gen...  \n",
       "291  Parasyte: The Maxim: Season 1: A Dark Night's ...  \n",
       "287  Parasyte: The Maxim: Season 1: Freezing Point ...  \n",
       "196  Parasyte: The Maxim: Season 1: Hello Sadness (...  \n",
       "83   Parasyte: The Maxim: Season 1: Life and Vows (...  \n",
       "389         Parasyte: The Maxim: Season 1_hook_01_16x9  \n",
       "259  Parasyte: The Maxim: Season 1: What Mad Univer...  \n",
       "113  Parasyte: The Maxim: Season 1: More Than Human...  \n",
       "195  Parasyte: The Maxim: Season 1: Hello Sadness (...  \n",
       "321  Parasyte: The Maxim: Season 1: The Stranger (E...  \n",
       "587         Parasyte: The Maxim: Season 1_hook_02_16x9  \n",
       "97   Parasyte: The Maxim: Season 1: Sex and Spirit ...  \n",
       "290  Parasyte: The Maxim: Season 1: A Dark Night's ...  \n",
       "141  Parasyte: The Maxim: Season 1: The Adventure o...  \n",
       "98   Parasyte: The Maxim: Season 1: Crime and Punis...  \n",
       "370  Parasyte: The Maxim: Season 1: Symposium (Epis...  \n",
       "387  Parasyte: The Maxim: Season 1: The Devil in th...  \n",
       "104  Parasyte: The Maxim: Season 1: In Cold Blood (...  \n",
       "114  Parasyte: The Maxim: Season 1: The Adventure o...  "
      ]
     },
     "execution_count": 10,
     "metadata": {},
     "output_type": "execute_result"
    }
   ],
   "source": [
    "pr=df[df[\"Title\"].str.contains(\"Parasyte:\", regex=False)]\n",
    "pr.sample(20)"
   ]
  },
  {
   "cell_type": "code",
   "execution_count": 11,
   "metadata": {},
   "outputs": [
    {
     "data": {
      "text/html": [
       "<div>\n",
       "<style scoped>\n",
       "    .dataframe tbody tr th:only-of-type {\n",
       "        vertical-align: middle;\n",
       "    }\n",
       "\n",
       "    .dataframe tbody tr th {\n",
       "        vertical-align: top;\n",
       "    }\n",
       "\n",
       "    .dataframe thead th {\n",
       "        text-align: right;\n",
       "    }\n",
       "</style>\n",
       "<table border=\"1\" class=\"dataframe\">\n",
       "  <thead>\n",
       "    <tr style=\"text-align: right;\">\n",
       "      <th></th>\n",
       "      <th>Start Time</th>\n",
       "      <th>Duration</th>\n",
       "      <th>Title</th>\n",
       "    </tr>\n",
       "  </thead>\n",
       "  <tbody>\n",
       "    <tr>\n",
       "      <th>321</th>\n",
       "      <td>2022-12-26 16:06:45+05:30</td>\n",
       "      <td>0 days 00:05:36</td>\n",
       "      <td>Parasyte: The Maxim: Season 1: The Stranger (E...</td>\n",
       "    </tr>\n",
       "  </tbody>\n",
       "</table>\n",
       "</div>"
      ],
      "text/plain": [
       "                   Start Time        Duration  \\\n",
       "321 2022-12-26 16:06:45+05:30 0 days 00:05:36   \n",
       "\n",
       "                                                 Title  \n",
       "321  Parasyte: The Maxim: Season 1: The Stranger (E...  "
      ]
     },
     "execution_count": 11,
     "metadata": {},
     "output_type": "execute_result"
    }
   ],
   "source": [
    "pr=pr[(pr[\"Duration\"] > \"0 days 00:01:00\")]\n",
    "pr.sample()"
   ]
  },
  {
   "cell_type": "code",
   "execution_count": 12,
   "metadata": {},
   "outputs": [
    {
     "data": {
      "text/plain": [
       "Timedelta('0 days 07:46:57')"
      ]
     },
     "execution_count": 12,
     "metadata": {},
     "output_type": "execute_result"
    }
   ],
   "source": [
    "pr[\"Duration\"].sum()"
   ]
  },
  {
   "cell_type": "code",
   "execution_count": 13,
   "metadata": {},
   "outputs": [
    {
     "data": {
      "text/html": [
       "<div>\n",
       "<style scoped>\n",
       "    .dataframe tbody tr th:only-of-type {\n",
       "        vertical-align: middle;\n",
       "    }\n",
       "\n",
       "    .dataframe tbody tr th {\n",
       "        vertical-align: top;\n",
       "    }\n",
       "\n",
       "    .dataframe thead th {\n",
       "        text-align: right;\n",
       "    }\n",
       "</style>\n",
       "<table border=\"1\" class=\"dataframe\">\n",
       "  <thead>\n",
       "    <tr style=\"text-align: right;\">\n",
       "      <th></th>\n",
       "      <th>Start Time</th>\n",
       "      <th>Duration</th>\n",
       "      <th>Title</th>\n",
       "      <th>Weekday</th>\n",
       "      <th>Hour</th>\n",
       "    </tr>\n",
       "  </thead>\n",
       "  <tbody>\n",
       "    <tr>\n",
       "      <th>68</th>\n",
       "      <td>2023-01-06 20:31:19+05:30</td>\n",
       "      <td>0 days 00:08:08</td>\n",
       "      <td>Parasyte: The Maxim: Season 1: Parasitic Beast...</td>\n",
       "      <td>4</td>\n",
       "      <td>20</td>\n",
       "    </tr>\n",
       "  </tbody>\n",
       "</table>\n",
       "</div>"
      ],
      "text/plain": [
       "                  Start Time        Duration  \\\n",
       "68 2023-01-06 20:31:19+05:30 0 days 00:08:08   \n",
       "\n",
       "                                                Title  Weekday  Hour  \n",
       "68  Parasyte: The Maxim: Season 1: Parasitic Beast...        4    20  "
      ]
     },
     "execution_count": 13,
     "metadata": {},
     "output_type": "execute_result"
    }
   ],
   "source": [
    "pr[\"Weekday\"]=pr[\"Start Time\"].dt.weekday\n",
    "pr[\"Hour\"]=pr[\"Start Time\"].dt.hour\n",
    "pr.head(1)"
   ]
  },
  {
   "cell_type": "code",
   "execution_count": 14,
   "metadata": {},
   "outputs": [],
   "source": [
    "import matplotlib\n",
    "%matplotlib inline"
   ]
  },
  {
   "cell_type": "code",
   "execution_count": 15,
   "metadata": {},
   "outputs": [
    {
     "data": {
      "text/plain": [
       "<Axes: title={'center': 'Parasyte watched by day'}>"
      ]
     },
     "execution_count": 15,
     "metadata": {},
     "output_type": "execute_result"
    },
    {
     "data": {
      "image/png": "[encoded data removed]",
      "text/plain": [
       "<Figure size 640x480 with 1 Axes>"
      ]
     },
     "metadata": {},
     "output_type": "display_data"
    }
   ],
   "source": [
    "pr[\"Weekday\"]=pd.Categorical(pr[\"Weekday\"],categories=[0,1,2,3,4,5,6],ordered=True)\n",
    "#Set our categorical and define order so days are plotted Monday-Sunday\n",
    "#create pr_day and count the rows for each weekday assigning result to variable\n",
    "pr_day=pr[\"Weekday\"].value_counts()\n",
    "pr_day=pr_day.sort_index()\n",
    "#Sort the columns using the categorical i.e maonday(0) is first and sunday(6) is last\n",
    "pr_day.plot(kind='bar',title=\"Parasyte watched by day\")"
   ]
  },
  {
   "cell_type": "code",
   "execution_count": 16,
   "metadata": {},
   "outputs": [
    {
     "data": {
      "text/plain": [
       "<Axes: title={'center': 'Parasyte episodes watched by hour'}>"
      ]
     },
     "execution_count": 16,
     "metadata": {},
     "output_type": "execute_result"
    },
    {
     "data": {
      "image/png": "[encoded data removed]",
      "text/plain": [
       "<Figure size 640x480 with 1 Axes>"
      ]
     },
     "metadata": {},
     "output_type": "display_data"
    }
   ],
   "source": [
    "#Analysing data on the basis of hour\n",
    "pr[\"Hour\"]=pd.Categorical(pr[\"Hour\"],categories=[0,1,2,3,4,5,6,7,8,9,10,11,12,13,14,15,16,17,18,19,20,21,22,23], ordered=True)\n",
    "pr_hour=pr[\"Hour\"].value_counts()\n",
    "pr_hour=pr_hour.sort_index()\n",
    "pr_hour.plot(kind=\"bar\", title=\"Parasyte episodes watched by hour\")"
   ]
  }
 ],
 "metadata": {
  "kernelspec": {
   "display_name": "Python 3",
   "language": "python",
   "name": "python3"
  },
  "language_info": {
   "codemirror_mode": {
    "name": "ipython",
    "version": 3
   },
   "file_extension": ".py",
   "mimetype": "text/x-python",
   "name": "python",
   "nbconvert_exporter": "python",
   "pygments_lexer": "ipython3",
   "version": "3.11.1"
  },
  "orig_nbformat": 4,
  "vscode": {
   "interpreter": {
    "hash": "1f6a27bcfbe46a917dbd192f4a82657396dda26148bae633192e8d28c70725f1"
   }
  }
 },
 "nbformat": 4,
 "nbformat_minor": 2
}
